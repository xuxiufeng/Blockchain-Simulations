{
  "nbformat": 4,
  "nbformat_minor": 0,
  "metadata": {
    "colab": {
      "name": "Probability - Gamma and Weibull.ipynb",
      "provenance": [],
      "authorship_tag": "ABX9TyNk56S5L7iRRXS0ePeH8kpO",
      "include_colab_link": true
    },
    "kernelspec": {
      "name": "python3",
      "display_name": "Python 3"
    },
    "language_info": {
      "name": "python"
    }
  },
  "cells": [
    {
      "cell_type": "markdown",
      "metadata": {
        "id": "view-in-github",
        "colab_type": "text"
      },
      "source": [
        "<a href=\"https://colab.research.google.com/github/xuxiufeng/Blockchain_Simulations/blob/main/Probability_Gamma_and_Weibull.ipynb\" target=\"_parent\"><img src=\"https://colab.research.google.com/assets/colab-badge.svg\" alt=\"Open In Colab\"/></a>"
      ]
    },
    {
      "cell_type": "code",
      "execution_count": 178,
      "metadata": {
        "id": "7jCrKrRoXbGj"
      },
      "outputs": [],
      "source": [
        "from scipy.stats import weibull_min\n",
        "import numpy as np\n",
        "import matplotlib.pyplot as plt"
      ]
    },
    {
      "cell_type": "code",
      "source": [
        "np.random.seed(1)"
      ],
      "metadata": {
        "id": "C8rSisGX_BQP"
      },
      "execution_count": 179,
      "outputs": []
    },
    {
      "cell_type": "code",
      "source": [
        "def T_m(m, eta, delta, alpha, beta):\n",
        "    sum_of_y = 0\n",
        "    y = weibull_min.rvs(c=beta, scale=alpha) # shape = beta; scale=alpha\n",
        "    sum_of_x = np.sum(np.random.gamma(eta, delta, m))\n",
        "    while sum_of_x > y:\n",
        "        sum_of_y = sum_of_y + y\n",
        "        sum_of_x = np.sum(np.random.gamma(eta, delta, m))\n",
        "        y = weibull_min.rvs(c=beta, scale=alpha)\n",
        "    return(sum_of_y + sum_of_x)"
      ],
      "metadata": {
        "id": "FwmBanj5b5wL"
      },
      "execution_count": 180,
      "outputs": []
    },
    {
      "cell_type": "code",
      "source": [
        "def P_mt1(t, m, eta, delta, alpha, beta, N=160000): \n",
        "    res = np.repeat(np.nan, N)\n",
        "    Prob = np.repeat(np.nan, len(m))\n",
        "    for i in range(len(m)):\n",
        "        for j in range(N):\n",
        "             res[j] = t < T_m(m[i], eta, delta, alpha, beta)\n",
        "        Prob[i] = np.sum(res)/N\n",
        "    return(Prob)"
      ],
      "metadata": {
        "id": "YztO74y8aYZK"
      },
      "execution_count": 181,
      "outputs": []
    },
    {
      "cell_type": "code",
      "source": [
        "m = 40\n",
        "eta = 0.02\n",
        "delta = 5\n",
        "alpha = 1\n",
        "beta = 3\n",
        "t_cross_section = 0.1\n",
        "P_mt = P_mt1(t_cross_section, range(1, m+1), eta, delta, alpha, beta)\n",
        "fig = plt.figure(figsize=(8, 6))\n",
        "plt.scatter(range(1, m+1), P_mt)\n",
        "plt.xlabel(r'$m$')\n",
        "plt.ylabel(r'$P_m(0.1)$')\n",
        "plt.title('Gamma Hacking and Weibull Detecting Times')\n",
        "plt.show()"
      ],
      "metadata": {
        "colab": {
          "base_uri": "https://localhost:8080/",
          "height": 404
        },
        "id": "Pj99d7MDaYc5",
        "outputId": "ec991c3b-901a-4231-e6f4-6397e52c355e"
      },
      "execution_count": 182,
      "outputs": [
        {
          "output_type": "display_data",
          "data": {
            "image/png": "[encoded data removed]",
            "text/plain": [
              "<Figure size 576x432 with 1 Axes>"
            ]
          },
          "metadata": {
            "needs_background": "light"
          }
        }
      ]
    },
    {
      "cell_type": "markdown",
      "source": [
        "# 3D"
      ],
      "metadata": {
        "id": "OhxacAx4qRFk"
      }
    },
    {
      "cell_type": "code",
      "source": [
        "def P_mt2(t, m, eta, delta, alpha, beta, N=30000): # N: iterations \n",
        "    res = np.repeat(np.nan, N)\n",
        "    for j in range(N):\n",
        "        res[j] = t < T_m(m, eta, delta, alpha, beta)\n",
        "    Prob = np.sum(res)/N\n",
        "    return (Prob)"
      ],
      "metadata": {
        "id": "EKHkSMBMaYfc"
      },
      "execution_count": 183,
      "outputs": []
    },
    {
      "cell_type": "code",
      "source": [
        "m = 40\n",
        "eta = 0.02\n",
        "delta = 5\n",
        "alpha = 1\n",
        "beta = 3\n",
        "m = np.array(range(1, m+1))\n",
        "t = np.array(np.linspace(0.001, 1, len(m)))\n",
        "m_axis = np.repeat(np.nan, len(m)*len(t))\n",
        "t_axis = np.repeat(np.nan, len(m)*len(t))\n",
        "P_axis = np.repeat(np.nan, len(m)*len(t))\n",
        "index = 0\n",
        "for i in range(len(m)):\n",
        "    for j in range(len(t)):\n",
        "        m_axis[index] = m[i]\n",
        "        t_axis[index] = t[j]\n",
        "        P_axis[index] = P_mt2(t_axis[index], int(m_axis[index]), eta, delta, alpha, beta)\n",
        "        index += 1"
      ],
      "metadata": {
        "id": "YlhGKyqzaYh_"
      },
      "execution_count": null,
      "outputs": []
    },
    {
      "cell_type": "code",
      "source": [
        "fig = plt.figure(figsize=(8, 6))\n",
        "ax = plt.axes(projection='3d')\n",
        "ax.scatter3D(m_axis, t_axis, P_axis, alpha=0.2, c='grey')\n",
        "ax.scatter3D(m, np.repeat(t_cross_section, len(m)), P_mt, alpha=1, c='blue')\n",
        "ax.view_init(30, 200)\n",
        "ax.set_yticks(np.linspace(0, 1, 6))\n",
        "ax.set_xlabel('m')\n",
        "ax.set_ylabel('t')\n",
        "ax.set_zlabel(r'$P_m(t)$')\n",
        "ax.set_title('Exponential Hacking and Exponential Detecting Times')\n",
        "plt.show()"
      ],
      "metadata": {
        "id": "RxFJjipFaYkm"
      },
      "execution_count": null,
      "outputs": []
    }
  ]
}