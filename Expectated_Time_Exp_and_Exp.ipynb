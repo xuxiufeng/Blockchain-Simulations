{
  "nbformat": 4,
  "nbformat_minor": 0,
  "metadata": {
    "colab": {
      "name": "Expectated Time - Exp and Exp.ipynb",
      "provenance": [],
      "authorship_tag": "ABX9TyNrm9LjlW7pJRgJQvhDfKRr",
      "include_colab_link": true
    },
    "kernelspec": {
      "name": "python3",
      "display_name": "Python 3"
    },
    "language_info": {
      "name": "python"
    }
  },
  "cells": [
    {
      "cell_type": "markdown",
      "metadata": {
        "id": "view-in-github",
        "colab_type": "text"
      },
      "source": [
        "<a href=\"https://colab.research.google.com/github/xuxiufeng/Blockchain_Simulations/blob/main/Expectated_Time_Exp_and_Exp.ipynb\" target=\"_parent\"><img src=\"https://colab.research.google.com/assets/colab-badge.svg\" alt=\"Open In Colab\"/></a>"
      ]
    },
    {
      "cell_type": "code",
      "execution_count": 80,
      "metadata": {
        "id": "L4Cz153bDc8w"
      },
      "outputs": [],
      "source": [
        "import numpy as np\n",
        "import matplotlib.pyplot as plt"
      ]
    },
    {
      "cell_type": "code",
      "source": [
        "np.random.seed(1)"
      ],
      "metadata": {
        "id": "7_4LRXtMFnP5"
      },
      "execution_count": 81,
      "outputs": []
    },
    {
      "cell_type": "code",
      "source": [
        "def ET_m(m, eta, alpha):\n",
        "    def T_m(m, eta, alpha):\n",
        "        sum_of_y = 0\n",
        "        y = np.random.exponential(alpha)\n",
        "        sum_of_x = np.sum(np.random.exponential(eta, m))\n",
        "        while sum_of_x > y:\n",
        "            sum_of_y = sum_of_y + y\n",
        "            sum_of_x = np.sum(np.random.exponential(eta, m))\n",
        "            y = np.random.exponential(alpha)\n",
        "        return(sum_of_y + sum_of_x)\n",
        "\n",
        "    ET = np.repeat(np.nan, m)\n",
        "    for i in range(m):\n",
        "        T_0 = 0\n",
        "        iter = 30000 # iter 10000\n",
        "        for j in range(iter):\n",
        "            T_0 += T_m(i+1, eta, alpha)\n",
        "        ET[i] = T_0/iter\n",
        "    return(ET)"
      ],
      "metadata": {
        "id": "itVu1i1IFnTE"
      },
      "execution_count": 82,
      "outputs": []
    },
    {
      "cell_type": "code",
      "source": [
        "m = 40\n",
        "eta = 0.02\n",
        "alpha = 0.3\n",
        "ET_m = ET_m(m, eta, alpha)\n",
        "fig = plt.figure(figsize=(8, 6))\n",
        "plt.scatter(range(1, m+1), ET_m)\n",
        "plt.xlabel(r'$m$')\n",
        "plt.ylabel(r'$E[T_m]$ (unit: hour)')\n",
        "plt.title('Exponential Hacking and Exponential Detecting Times')\n",
        "plt.show()"
      ],
      "metadata": {
        "colab": {
          "base_uri": "https://localhost:8080/",
          "height": 404
        },
        "id": "6FKK93xtFnWd",
        "outputId": "dd8275ff-1b8c-4d44-d240-0b942e95af9f"
      },
      "execution_count": 83,
      "outputs": [
        {
          "output_type": "display_data",
          "data": {
            "image/png": "[encoded data removed]",
            "text/plain": [
              "<Figure size 576x432 with 1 Axes>"
            ]
          },
          "metadata": {
            "needs_background": "light"
          }
        }
      ]
    },
    {
      "cell_type": "code",
      "source": [
        "R = 280\n",
        "C_2 = [c * 5 for c in range(1, m+1)]\n",
        "C_1 = [c * 6 for c in range(1, m+1)]\n",
        "E_mNR = np.repeat(np.nan, len(ET_m))\n",
        "for j in range(m):\n",
        "  E_mNR[j] = R - C_2[j] - C_1[j]/ET_m[j]\n",
        "m_max = np.where(E_mNR == max(E_mNR))[0][0] + 1\n",
        "print(m_max, max(E_mNR))"
      ],
      "metadata": {
        "id": "BFWWDPTnwYs-",
        "outputId": "8d03a0d4-ac34-408f-d5c0-7bef7a9dc992",
        "colab": {
          "base_uri": "https://localhost:8080/"
        }
      },
      "execution_count": 105,
      "outputs": [
        {
          "output_type": "stream",
          "name": "stdout",
          "text": [
            "25 31.085852781770953\n"
          ]
        }
      ]
    },
    {
      "cell_type": "code",
      "source": [
        "fig = plt.figure(figsize=(8, 6))\n",
        "plt.scatter(range(1, m+1), E_mNR)\n",
        "plt.axvline(x = m_max, c='red')\n",
        "plt.xlabel(r'$m$')\n",
        "plt.ylabel(r'$E_m[NR]$')\n",
        "plt.title(r'Expected Net Revenue Versus $m$')\n",
        "plt.show()"
      ],
      "metadata": {
        "id": "A4vGhnHHbAgC",
        "outputId": "74afb2b1-d91b-4bee-d606-8812236af976",
        "colab": {
          "base_uri": "https://localhost:8080/",
          "height": 406
        }
      },
      "execution_count": 106,
      "outputs": [
        {
          "output_type": "display_data",
          "data": {
            "image/png": "[encoded data removed]",
            "text/plain": [
              "<Figure size 576x432 with 1 Axes>"
            ]
          },
          "metadata": {
            "needs_background": "light"
          }
        }
      ]
    }
  ]
}