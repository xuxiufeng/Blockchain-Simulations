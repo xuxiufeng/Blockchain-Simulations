{
  "nbformat": 4,
  "nbformat_minor": 0,
  "metadata": {
    "colab": {
      "name": "Probability - Gamma and Gamma.ipynb",
      "provenance": [],
      "authorship_tag": "ABX9TyNc9+OroL9M/WTyfsUqwB99",
      "include_colab_link": true
    },
    "kernelspec": {
      "name": "python3",
      "display_name": "Python 3"
    },
    "language_info": {
      "name": "python"
    }
  },
  "cells": [
    {
      "cell_type": "markdown",
      "metadata": {
        "id": "view-in-github",
        "colab_type": "text"
      },
      "source": [
        "<a href=\"https://colab.research.google.com/github/xuxiufeng/Blockchain_Simulations/blob/main/Probability_Gamma_and_Gamma.ipynb\" target=\"_parent\"><img src=\"https://colab.research.google.com/assets/colab-badge.svg\" alt=\"Open In Colab\"/></a>"
      ]
    },
    {
      "cell_type": "code",
      "execution_count": 1,
      "metadata": {
        "id": "nywxoLYyRvf1"
      },
      "outputs": [],
      "source": [
        "import numpy as np\n",
        "import matplotlib.pyplot as plt"
      ]
    },
    {
      "cell_type": "code",
      "source": [
        "np.random.seed(1)"
      ],
      "metadata": {
        "id": "8lusPHuFSVwN"
      },
      "execution_count": 2,
      "outputs": []
    },
    {
      "cell_type": "code",
      "source": [
        "def T_m(m, eta, delta, alpha, beta):\n",
        "    sum_of_y = 0\n",
        "    y = np.random.gamma(alpha, beta)\n",
        "    sum_of_x = np.sum(np.random.gamma(eta, delta, m))\n",
        "    while sum_of_x > y:\n",
        "        sum_of_y = sum_of_y + y\n",
        "        sum_of_x = np.sum(np.random.gamma(eta, delta, m))\n",
        "        y = np.random.gamma(alpha, beta)\n",
        "    return (sum_of_y + sum_of_x)"
      ],
      "metadata": {
        "id": "NzpI2XL-SVyq"
      },
      "execution_count": 3,
      "outputs": []
    },
    {
      "cell_type": "code",
      "source": [
        "def P_mt1(t, m, eta, delta, alpha, beta, N=100000):\n",
        "    res = np.repeat(np.nan, N)\n",
        "    Prob = np.repeat(np.nan, len(m))\n",
        "    for i in range(len(m)):\n",
        "        for j in range(N):\n",
        "             res[j] = t < T_m(m[i], eta, delta, alpha, beta)\n",
        "        Prob[i] = np.sum(res)/N\n",
        "    return(Prob)"
      ],
      "metadata": {
        "id": "5R1KmKsbSV3w"
      },
      "execution_count": 4,
      "outputs": []
    },
    {
      "cell_type": "code",
      "source": [
        "m = 40\n",
        "eta = 0.02\n",
        "delta = 0.5\n",
        "alpha = 0.1\n",
        "beta = 0.3\n",
        "t = 0.002\n",
        "plt.scatter(range(1, m+1), P_mt1(t, range(1, m+1), eta, delta, alpha, beta))\n",
        "plt.xlabel(r'$m$')\n",
        "plt.ylabel(r'$P_m(0.002)$')\n",
        "plt.title('Gamma Hacking and Gamma Detecting Times')\n",
        "plt.show()"
      ],
      "metadata": {
        "colab": {
          "base_uri": "https://localhost:8080/",
          "height": 295
        },
        "id": "r3nrs7e8SWEa",
        "outputId": "1b405ae9-dd48-42b1-8750-a57ab2d368fe"
      },
      "execution_count": 5,
      "outputs": [
        {
          "output_type": "display_data",
          "data": {
            "image/png": "[encoded data removed]",
            "text/plain": [
              "<Figure size 432x288 with 1 Axes>"
            ]
          },
          "metadata": {
            "needs_background": "light"
          }
        }
      ]
    },
    {
      "cell_type": "markdown",
      "source": [
        "## 3D"
      ],
      "metadata": {
        "id": "aoZXJQryVk2y"
      }
    },
    {
      "cell_type": "code",
      "source": [
        ""
      ],
      "metadata": {
        "id": "ohpd5HPgVmyV"
      },
      "execution_count": null,
      "outputs": []
    }
  ]
}