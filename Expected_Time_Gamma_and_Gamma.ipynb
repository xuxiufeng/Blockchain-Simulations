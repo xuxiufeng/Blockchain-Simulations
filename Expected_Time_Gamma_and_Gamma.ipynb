{
  "nbformat": 4,
  "nbformat_minor": 0,
  "metadata": {
    "colab": {
      "name": "Expected Time - Gamma and Gamma.ipynb",
      "provenance": [],
      "authorship_tag": "ABX9TyOZqNS9M0Lp+dxnBxQxvs8n",
      "include_colab_link": true
    },
    "kernelspec": {
      "name": "python3",
      "display_name": "Python 3"
    },
    "language_info": {
      "name": "python"
    }
  },
  "cells": [
    {
      "cell_type": "markdown",
      "metadata": {
        "id": "view-in-github",
        "colab_type": "text"
      },
      "source": [
        "<a href=\"https://colab.research.google.com/github/xuxiufeng/Blockchain_Simulations/blob/main/Expected_Time_Gamma_and_Gamma.ipynb\" target=\"_parent\"><img src=\"https://colab.research.google.com/assets/colab-badge.svg\" alt=\"Open In Colab\"/></a>"
      ]
    },
    {
      "cell_type": "code",
      "execution_count": 62,
      "metadata": {
        "id": "9mI6X6bQOt0I"
      },
      "outputs": [],
      "source": [
        "import numpy as np\n",
        "import matplotlib.pyplot as plt"
      ]
    },
    {
      "cell_type": "code",
      "source": [
        "np.random.seed(1)"
      ],
      "metadata": {
        "id": "PFvx_XakO3G_"
      },
      "execution_count": 63,
      "outputs": []
    },
    {
      "cell_type": "code",
      "source": [
        "def ET_m(m, eta, delta, alpha, beta):\n",
        "    def T_m(m, eta, delta, alpha, beta):\n",
        "        sum_of_y = 0\n",
        "        y = np.random.gamma(alpha, beta)\n",
        "        sum_of_x = np.sum(np.random.gamma(eta, delta, m))\n",
        "        while sum_of_x > y:\n",
        "            sum_of_y = sum_of_y + y\n",
        "            sum_of_x = np.sum(np.random.gamma(eta, delta, m))\n",
        "            y = np.random.gamma(alpha, beta)\n",
        "        return(sum_of_y + sum_of_x)\n",
        "\n",
        "    ET = np.repeat(np.nan, m)\n",
        "    for i in range(m):\n",
        "        T_0 = 0\n",
        "        iter = 80000 # iter 80000\n",
        "        for j in range(iter):\n",
        "            T_0 += T_m(i+1, eta, delta, alpha, beta)\n",
        "        ET[i] = T_0/iter\n",
        "    return(ET)\n"
      ],
      "metadata": {
        "id": "Tz-Bdy3qO3Pj"
      },
      "execution_count": 64,
      "outputs": []
    },
    {
      "cell_type": "code",
      "source": [
        "m = 40\n",
        "eta = 0.05\n",
        "delta = 15\n",
        "alpha = 2\n",
        "beta = 10\n",
        "ET_m = ET_m(m, eta, delta, alpha, beta)\n",
        "fig = plt.figure(figsize=(8, 6))\n",
        "plt.scatter(range(1, m+1), ET_m)\n",
        "plt.xlabel(r'$m$')\n",
        "plt.ylabel(r'$E[T_m]$ (unit: hour)')\n",
        "plt.title('Gamma Hacking and Gamma Detecting Times')\n",
        "plt.show()"
      ],
      "metadata": {
        "colab": {
          "base_uri": "https://localhost:8080/",
          "height": 404
        },
        "id": "etIpyGd2O3SM",
        "outputId": "6a86f167-307e-47be-f1e6-79559aaea5df"
      },
      "execution_count": 65,
      "outputs": [
        {
          "output_type": "display_data",
          "data": {
            "image/png": "[encoded data removed]",
            "text/plain": [
              "<Figure size 576x432 with 1 Axes>"
            ]
          },
          "metadata": {
            "needs_background": "light"
          }
        }
      ]
    },
    {
      "cell_type": "code",
      "source": [
        "R = 1\n",
        "C_2 = [.2*c**.3 for c in range(1, m+1)]\n",
        "C_1 = [.6*c**.2 for c in range(1, m+1)]\n",
        "E_mNR = np.repeat(np.nan, len(ET_m))\n",
        "for j in range(m):\n",
        "  E_mNR[j] = R - C_2[j] - C_1[j]/ET_m[j]\n",
        "m_max = np.where(E_mNR == max(E_mNR))[0][0] + 1\n",
        "print(m_max, max(E_mNR))"
      ],
      "metadata": {
        "id": "O2M7vPDrwxdd",
        "outputId": "fdaa1b7e-6dd0-44f9-cb06-69735d2a1039",
        "colab": {
          "base_uri": "https://localhost:8080/"
        }
      },
      "execution_count": 66,
      "outputs": [
        {
          "output_type": "stream",
          "name": "stdout",
          "text": [
            "12 0.4580078509996677\n"
          ]
        }
      ]
    },
    {
      "cell_type": "code",
      "source": [
        "fig = plt.figure(figsize=(8, 6))\n",
        "plt.scatter(range(1, m+1), E_mNR)\n",
        "plt.axvline(x = m_max, c='red')\n",
        "plt.xlabel(r'$m$')\n",
        "plt.ylabel(r'$E_m[NR]$')\n",
        "plt.title(r'Expected Net Revenue Versus $m$')\n",
        "plt.show()"
      ],
      "metadata": {
        "id": "EUZoBcm2wx8F",
        "outputId": "06302109-8f0f-4060-9f0c-774547d8a972",
        "colab": {
          "base_uri": "https://localhost:8080/",
          "height": 406
        }
      },
      "execution_count": 67,
      "outputs": [
        {
          "output_type": "display_data",
          "data": {
            "image/png": "[encoded data removed]",
            "text/plain": [
              "<Figure size 576x432 with 1 Axes>"
            ]
          },
          "metadata": {
            "needs_background": "light"
          }
        }
      ]
    }
  ]
}