{
  "nbformat": 4,
  "nbformat_minor": 0,
  "metadata": {
    "colab": {
      "name": "Expected Time - Gamma and Gamma.ipynb",
      "provenance": [],
      "authorship_tag": "ABX9TyPcIjOtUVFYH3L6H7rq/b4q",
      "include_colab_link": true
    },
    "kernelspec": {
      "name": "python3",
      "display_name": "Python 3"
    },
    "language_info": {
      "name": "python"
    }
  },
  "cells": [
    {
      "cell_type": "markdown",
      "metadata": {
        "id": "view-in-github",
        "colab_type": "text"
      },
      "source": [
        "<a href=\"https://colab.research.google.com/github/xuxiufeng/Blockchain_Simulations/blob/main/Expected_Time_Gamma_and_Gamma.ipynb\" target=\"_parent\"><img src=\"https://colab.research.google.com/assets/colab-badge.svg\" alt=\"Open In Colab\"/></a>"
      ]
    },
    {
      "cell_type": "code",
      "execution_count": 50,
      "metadata": {
        "id": "9mI6X6bQOt0I"
      },
      "outputs": [],
      "source": [
        "import numpy as np\n",
        "import matplotlib.pyplot as plt"
      ]
    },
    {
      "cell_type": "code",
      "source": [
        "np.random.seed(1)"
      ],
      "metadata": {
        "id": "PFvx_XakO3G_"
      },
      "execution_count": 51,
      "outputs": []
    },
    {
      "cell_type": "code",
      "source": [
        "def ET_m(m, eta, delta, alpha, beta):\n",
        "    def T_m(m, eta, delta, alpha, beta):\n",
        "        sum_of_y = 0\n",
        "        y = np.random.gamma(alpha, beta)\n",
        "        sum_of_x = np.sum(np.random.gamma(eta, delta, m))\n",
        "        while sum_of_x > y:\n",
        "            sum_of_y = sum_of_y + y\n",
        "            sum_of_x = np.sum(np.random.gamma(eta, delta, m))\n",
        "            y = np.random.gamma(alpha, beta)\n",
        "        return(sum_of_y + sum_of_x)\n",
        "\n",
        "    ET = np.repeat(np.nan, m)\n",
        "    for i in range(m):\n",
        "        T_0 = 0\n",
        "        iter = 80000 # iter 80000\n",
        "        for j in range(iter):\n",
        "            T_0 += T_m(i+1, eta, delta, alpha, beta)\n",
        "        ET[i] = T_0/iter\n",
        "    return(ET)\n"
      ],
      "metadata": {
        "id": "Tz-Bdy3qO3Pj"
      },
      "execution_count": 52,
      "outputs": []
    },
    {
      "cell_type": "code",
      "source": [
        "m = 40\n",
        "eta = 0.02\n",
        "delta = 5\n",
        "alpha = 1\n",
        "beta = 3\n",
        "ET_m = ET_m(m, eta, delta, alpha, beta)\n",
        "fig = plt.figure(figsize=(8, 6))\n",
        "plt.scatter(range(1, m+1), ET_m)\n",
        "plt.xlabel(r'$m$')\n",
        "plt.ylabel(r'$E[T_m]$ (unit: hour)')\n",
        "plt.title('Gamma Hacking and Gamma Detecting Times')\n",
        "plt.show()"
      ],
      "metadata": {
        "colab": {
          "base_uri": "https://localhost:8080/",
          "height": 404
        },
        "id": "etIpyGd2O3SM",
        "outputId": "31f96c3f-d573-4024-879c-2e0553d43c0b"
      },
      "execution_count": 53,
      "outputs": [
        {
          "output_type": "display_data",
          "data": {
            "image/png": "[encoded data removed]",
            "text/plain": [
              "<Figure size 576x432 with 1 Axes>"
            ]
          },
          "metadata": {
            "needs_background": "light"
          }
        }
      ]
    },
    {
      "cell_type": "code",
      "source": [
        "R = 80\n",
        "C_2 = [c**.8 * 5 for c in range(1, m+1)]\n",
        "C_1 = [c**.5 * 6 for c in range(1, m+1)]\n",
        "E_mNR = np.repeat(np.nan, len(ET_m))\n",
        "for j in range(m):\n",
        "  E_mNR[j] = R - C_2[j] - C_1[j]/ET_m[j]\n",
        "m_max = np.where(E_mNR == max(E_mNR))[0][0] + 1\n",
        "print(m_max, max(E_mNR))"
      ],
      "metadata": {
        "id": "O2M7vPDrwxdd",
        "outputId": "b29bd352-e410-4cf4-ea9d-b175b07c6a45",
        "colab": {
          "base_uri": "https://localhost:8080/"
        }
      },
      "execution_count": 54,
      "outputs": [
        {
          "output_type": "stream",
          "name": "stdout",
          "text": [
            "7 20.573122900638253\n"
          ]
        }
      ]
    },
    {
      "cell_type": "code",
      "source": [
        "fig = plt.figure(figsize=(8, 6))\n",
        "plt.scatter(range(1, m+1), E_mNR)\n",
        "plt.axvline(x = m_max, c='red')\n",
        "plt.xlabel(r'$m$')\n",
        "plt.ylabel(r'$E_m[NR]$')\n",
        "plt.title(r'Expected Net Revenue Versus $m$')\n",
        "plt.show()"
      ],
      "metadata": {
        "id": "EUZoBcm2wx8F",
        "outputId": "5de9060d-b65a-459b-d0c0-7c12ed0b7ed2",
        "colab": {
          "base_uri": "https://localhost:8080/",
          "height": 406
        }
      },
      "execution_count": 55,
      "outputs": [
        {
          "output_type": "display_data",
          "data": {
            "image/png": "[encoded data removed]",
            "text/plain": [
              "<Figure size 576x432 with 1 Axes>"
            ]
          },
          "metadata": {
            "needs_background": "light"
          }
        }
      ]
    }
  ]
}